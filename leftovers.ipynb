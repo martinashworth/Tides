################################################################################
# Weather - Make an API call to fetch the hourly temperature data
################################################################################

url = f'https://api.open-meteo.com/v1/forecast?latitude={latitude}&longitude={longitude}&hourly=temperature_2m,weathercode&timezone=GMT'
response = requests.get(url)

if response.status_code == 200:
    data = response.json()

    hourly_data = data['hourly']
    temperature_2m = hourly_data['temperature_2m']
    weathercode = hourly_data['weathercode']
    timestamps = hourly_data['time']

    daily_temperatures = {}
    for i, temp in enumerate(temperature_2m):
        dt = datetime.fromisoformat(timestamps[i])
        date_str = dt.strftime('%Y-%m-%d')
        hour = dt.hour

################################################################################
# Consider daytime hours between 6 AM and 6 PM
################################################################################

        if 6 <= hour < 18:
            if date_str not in daily_temperatures:
                daily_temperatures[date_str] = {'total_temp': 0, 'count': 0, 'weathercode': weathercode[i]}
            
            daily_temperatures[date_str]['total_temp'] += temp
            daily_temperatures[date_str]['count'] += 1

################################################################################
# Calculate the average daytime temperature
################################################################################

    for date_str in daily_temperatures:
        total_temp = daily_temperatures[date_str]['total_temp']
        count = daily_temperatures[date_str]['count']
        average_temp = total_temp / count
        daily_weathercode = daily_temperatures[date_str]['weathercode']
        
################################################################################
# print(f"{date_str}: {average_temp:.1f}°C, weathercode: {daily_weathercode}")
################################################################################

else:
    print(f"Error fetching weather data: {response.status_code}")
