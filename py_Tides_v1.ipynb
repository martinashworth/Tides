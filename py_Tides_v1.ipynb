{
 "cells": [
  {
   "attachments": {},
   "cell_type": "markdown",
   "metadata": {},
   "source": [
    "- Requirements.txt should contain the following (other modules are included in the standard Python library):\n",
    "    - requests\n",
    "    - pandas\n",
    "    - pytz"
   ]
  },
  {
   "cell_type": "code",
   "execution_count": 91,
   "metadata": {},
   "outputs": [],
   "source": [
    "################################################################################\n",
    "# make these imports into a set of requirements (see above)\n",
    "################################################################################\n",
    "\n",
    "import requests\n",
    "import pandas as pd\n",
    "from datetime import date, timedelta, datetime\n",
    "import pytz\n",
    "import json"
   ]
  },
  {
   "cell_type": "code",
   "execution_count": 92,
   "metadata": {},
   "outputs": [],
   "source": [
    "################################################################################\n",
    "# set and create some variables\n",
    "################################################################################\n",
    "\n",
    "# Coordinates for [location]: \n",
    "latitude = '55.951009'\n",
    "longitude = '-3.100191'\n",
    "\n",
    "# Set the start date to current date:\n",
    "start_date = date.today()"
   ]
  },
  {
   "cell_type": "code",
   "execution_count": 93,
   "metadata": {},
   "outputs": [],
   "source": [
    "################################################################################\n",
    "# function to fetch sunrise and sunset data\n",
    "################################################################################\n",
    "\n",
    "def fetch_sunrise_sunset_data(date_str):\n",
    "    \"\"\"Fetch sunrise and sunset times from API.\"\"\"\n",
    "    url = f'https://api.sunrise-sunset.org/json?lat={latitude}&lng={longitude}&date={date_str}&formatted=0'\n",
    "    response = requests.get(url)\n",
    "\n",
    "    # Return JSON data if request is successful, else print error and return None\n",
    "    if response.status_code == 200:\n",
    "        return response.json()\n",
    "    else:\n",
    "        print(f\"Error fetching sunrise/sunset data: {response.status_code}\")\n",
    "        return None\n",
    "\n",
    "################################################################################\n",
    "# function to convert times to local\n",
    "################################################################################\n",
    "\n",
    "def convert_to_bst(time_str):\n",
    "    \"\"\"Convert GMT time string to BST.\"\"\"\n",
    "    gmt = pytz.timezone('GMT')\n",
    "    bst = pytz.timezone('Europe/London')\n",
    "    gmt_time = datetime.fromisoformat(time_str).replace(tzinfo=gmt)\n",
    "    bst_time = gmt_time.astimezone(bst)\n",
    "    return bst_time.strftime('%H:%M')\n",
    "\n",
    "################################################################################\n",
    "# use the functions to fetch times for one week\n",
    "################################################################################\n",
    "\n",
    "sun_data = []\n",
    "\n",
    "for i in range(7):\n",
    "    # Calculate the date for each day in the range\n",
    "    current_date = start_date + timedelta(days=i)\n",
    "    date_str = current_date.isoformat()\n",
    "\n",
    "    # Fetch sunrise and sunset data for the current date\n",
    "    sun_info = fetch_sunrise_sunset_data(date_str)\n",
    "\n",
    "    # If data is successfully fetched, convert times to BST and add to sun_data\n",
    "    if sun_info and 'results' in sun_info:\n",
    "        sun_data.append({\n",
    "            'date': date_str,\n",
    "            'sunrise': convert_to_bst(sun_info['results']['sunrise']),\n",
    "            'sunset': convert_to_bst(sun_info['results']['sunset'])\n",
    "        })\n",
    "    else:\n",
    "        print(f\"No sun data fetched for date: {date_str}\")\n"
   ]
  },
  {
   "cell_type": "code",
   "execution_count": 94,
   "metadata": {},
   "outputs": [],
   "source": [
    "################################################################################\n",
    "# put the data in a dataframe\n",
    "################################################################################\n",
    "\n",
    "df = pd.DataFrame(sun_data)\n"
   ]
  },
  {
   "cell_type": "code",
   "execution_count": 95,
   "metadata": {},
   "outputs": [],
   "source": [
    "################################################################################\n",
    "# use the date column as the index\n",
    "################################################################################\n",
    "\n",
    "df.set_index('date', inplace=True)"
   ]
  },
  {
   "cell_type": "code",
   "execution_count": 96,
   "metadata": {},
   "outputs": [],
   "source": [
    "# convert the index to datetime\n",
    "df.index = pd.to_datetime(df.index)\n",
    "\n",
    "# create a new column for the day of the week\n",
    "df['day_of_week'] = df.index.day_name()\n",
    "\n",
    "# Define the new order of the columns with 'day_of_week' at the beginning\n",
    "column_order = ['day_of_week', 'sunrise', 'sunset']\n",
    "\n",
    "# Reorder the DataFrame\n",
    "df = df[column_order]"
   ]
  },
  {
   "cell_type": "code",
   "execution_count": 97,
   "metadata": {},
   "outputs": [],
   "source": [
    "from bs4 import BeautifulSoup\n",
    "import requests\n",
    "import pandas as pd\n",
    "\n",
    "url = 'https://www.tidetime.org/europe/united-kingdom/portobello.htm'\n",
    "response = requests.get(url)\n",
    "soup = BeautifulSoup(response.text, 'html.parser')\n",
    "\n",
    "# Find the table in the soup.\n",
    "table = soup.find('table', {'id': 'tideTable'})\n",
    "\n",
    "# Find all the table rows in the table.\n",
    "rows = table.find_all('tr')\n",
    "\n",
    "# Initialize an empty list to hold the data.\n",
    "data = []\n",
    "\n",
    "# Initialize a counter for the day of the week.\n",
    "day = 0\n",
    "\n",
    "# Loop through each row.\n",
    "for row in rows:\n",
    "    # Find all the table data cells in the row.\n",
    "    cells = row.find_all('td')\n",
    "\n",
    "    # Loop through each cell.\n",
    "    for cell in cells:\n",
    "        # Increment the day counter.\n",
    "        day += 1\n",
    "\n",
    "        # Find all the high and low tides in the cell.\n",
    "        tides = cell.find_all('li', {'class': ['highTide', 'lowTide']})\n",
    "\n",
    "        # Loop through each tide.\n",
    "        for tide in tides:\n",
    "            # Get the tide type, time and height from the tide text.\n",
    "            tide_type = tide.find('span', {'class': 'tidal-state'}).text\n",
    "            tide_time = tide.find('strong').text.replace(tide_type, '').strip()\n",
    "            tide_height = tide.text.split(')')[0].split('(')[-1]\n",
    "\n",
    "            # Add the day, tide type, time and height to the data list.\n",
    "            data.append([day, tide_type, tide_time, tide_height])\n",
    "\n",
    "# Convert the data list into a DataFrame.\n",
    "df_tides = pd.DataFrame(data, columns=['Day', 'Tide Type', 'Tide Time', 'Tide Height'])\n",
    "\n",
    "df_tides.drop('Tide Type', axis=1, inplace=True)\n",
    "\n",
    "# print(df)\n",
    "# print(df_tides)"
   ]
  },
  {
   "cell_type": "code",
   "execution_count": 98,
   "metadata": {},
   "outputs": [],
   "source": [
    "df_tides_pivot = df_tides.assign(\n",
    "    col_id=df_tides.groupby('Day').cumcount().add(1)\n",
    ").pivot_table(\n",
    "    index='Day',\n",
    "    columns='col_id',\n",
    "    values=['Tide Time', 'Tide Height'],\n",
    "    aggfunc='first'\n",
    ")\n",
    "\n",
    "# Sort MultiIndex columns by level 1 (col_id) then by level 0 ('Tide Time'/'Tide Height')\n",
    "# This will result in 'Tide Time' coming before 'Tide Height' for each col_id\n",
    "df_tides_pivot = df_tides_pivot.sort_index(axis=1, level=[1, 0])\n",
    "\n",
    "# Remove the 'Day' column\n",
    "df_tides_pivot = df_tides_pivot.drop('Day', axis=1, errors='ignore')\n",
    "\n",
    "# Flatten the MultiIndex to join the two levels into a single level\n",
    "# Separator between the levels is '_'\n",
    "df_tides_pivot.columns = df_tides_pivot.columns.map(lambda x: f'{x[0]}_{x[1]}')\n",
    "\n"
   ]
  },
  {
   "cell_type": "code",
   "execution_count": 99,
   "metadata": {},
   "outputs": [
    {
     "name": "stdout",
     "output_type": "stream",
     "text": [
      "<class 'pandas.core.frame.DataFrame'>\n",
      "Int64Index: 7 entries, 1 to 7\n",
      "Data columns (total 8 columns):\n",
      " #   Column         Non-Null Count  Dtype \n",
      "---  ------         --------------  ----- \n",
      " 0   Tide Time_1    7 non-null      object\n",
      " 1   Tide Height_1  7 non-null      object\n",
      " 2   Tide Time_2    7 non-null      object\n",
      " 3   Tide Height_2  7 non-null      object\n",
      " 4   Tide Time_3    7 non-null      object\n",
      " 5   Tide Height_3  7 non-null      object\n",
      " 6   Tide Time_4    5 non-null      object\n",
      " 7   Tide Height_4  5 non-null      object\n",
      "dtypes: object(8)\n",
      "memory usage: 504.0+ bytes\n",
      "    Tide Time_1 Tide Height_1 Tide Time_2 Tide Height_2 Tide Time_3  \\\n",
      "Day                                                                   \n",
      "1       06:07am         5.28m     12:24pm         0.88m     06:56pm   \n",
      "2       12:47am         1.51m     07:01am         5.16m     01:25pm   \n",
      "3       01:48am          1.7m     07:59am         5.03m     02:30pm   \n",
      "4       02:50am         1.82m     09:05am         4.92m     03:31pm   \n",
      "5       03:49am         1.85m     10:14am         4.87m     04:39pm   \n",
      "6       04:53am         1.79m     11:21am          4.9m     05:46pm   \n",
      "7       12:08am         4.83m     05:57am         1.65m     12:24pm   \n",
      "\n",
      "    Tide Height_3 Tide Time_4 Tide Height_4  \n",
      "Day                                          \n",
      "1           5.18m         NaN           NaN  \n",
      "2              1m     07:53pm         5.02m  \n",
      "3           1.11m     08:58pm         4.88m  \n",
      "4           1.19m     10:02pm         4.79m  \n",
      "5           1.21m     11:07pm         4.77m  \n",
      "6            1.2m         NaN           NaN  \n",
      "7           4.99m     06:48pm         1.17m  \n"
     ]
    }
   ],
   "source": [
    "# Create a list of column names in the desired order\n",
    "ordered_columns = ['Tide Time_1', 'Tide Height_1', 'Tide Time_2', 'Tide Height_2', 'Tide Time_3', 'Tide Height_3', 'Tide Time_4', 'Tide Height_4']\n",
    "\n",
    "# Reorder the columns in the DataFrame\n",
    "df_tides_pivot = df_tides_pivot[ordered_columns]"
   ]
  },
  {
   "cell_type": "code",
   "execution_count": 100,
   "metadata": {},
   "outputs": [],
   "source": [
    "# Define a function to convert the time to datetime.time\n",
    "def convert_time(time_str):\n",
    "    if pd.isna(time_str):\n",
    "        return pd.NaT\n",
    "    else:\n",
    "        return pd.to_datetime(time_str.replace('am', ' AM').replace('pm', ' PM'), format='%I:%M %p').time()\n",
    "\n",
    "# Apply the function to the time columns\n",
    "for i in range(1, 5):\n",
    "    df_tides_pivot[f'Tide Time_{i}'] = df_tides_pivot[f'Tide Time_{i}'].apply(convert_time)\n",
    "\n",
    "# Apply lambda function to remove 'm' and convert to float for the height columns\n",
    "for i in range(1, 5):\n",
    "    df_tides_pivot[f'Tide Height_{i}'] = df_tides_pivot[f'Tide Height_{i}'].str.replace('m', '', regex=True).astype(float)\n"
   ]
  },
  {
   "cell_type": "code",
   "execution_count": 106,
   "metadata": {},
   "outputs": [
    {
     "name": "stdout",
     "output_type": "stream",
     "text": [
      "<class 'pandas.core.frame.DataFrame'>\n",
      "RangeIndex: 7 entries, 0 to 6\n",
      "Data columns (total 12 columns):\n",
      " #   Column         Non-Null Count  Dtype         \n",
      "---  ------         --------------  -----         \n",
      " 0   date           7 non-null      datetime64[ns]\n",
      " 1   day_of_week    7 non-null      object        \n",
      " 2   sunrise        7 non-null      object        \n",
      " 3   sunset         7 non-null      object        \n",
      " 4   Tide Time_1    7 non-null      object        \n",
      " 5   Tide Height_1  7 non-null      float64       \n",
      " 6   Tide Time_2    7 non-null      object        \n",
      " 7   Tide Height_2  7 non-null      float64       \n",
      " 8   Tide Time_3    7 non-null      object        \n",
      " 9   Tide Height_3  7 non-null      float64       \n",
      " 10  Tide Time_4    5 non-null      object        \n",
      " 11  Tide Height_4  5 non-null      float64       \n",
      "dtypes: datetime64[ns](1), float64(4), object(7)\n",
      "memory usage: 800.0+ bytes\n"
     ]
    }
   ],
   "source": [
    "df_merged = pd.concat([df.reset_index(), df_tides_pivot.reset_index()], axis=1)\n",
    "df_merged.drop(columns=['Day'], inplace=True)\n",
    "\n",
    "df_merged.info()"
   ]
  },
  {
   "attachments": {},
   "cell_type": "markdown",
   "metadata": {},
   "source": [
    "- DONE - Add a Day Of The Week column\n",
    "\n",
    "- DONE - Fetch the Tides webpage using Python's requests library.\n",
    "\n",
    "- DONE - Parse the HTML: use Beautiful Soup to parse the HTML and find the table containing the tide data.\n",
    "\n",
    "- DONE - Extract and structure the data: go through cell by cell to extract the tide data and put it into a structured format. This might involve creating a Pandas DataFrame, or perhaps a more specialized data structure that's suited to your needs.\n",
    "\n",
    "- Convert to the desired format: If necessary, you may need to convert the times to a different format, or perform other transformations on the data to prepare it for your analysis.\n",
    "\n",
    "- py_Tides_old_remains contains the old bits of code for weather and visualisation.  They won't map directly but will hopefully offer some guidance on what remains to do."
   ]
  }
 ],
 "metadata": {
  "kernelspec": {
   "display_name": "Python 3",
   "language": "python",
   "name": "python3"
  },
  "language_info": {
   "codemirror_mode": {
    "name": "ipython",
    "version": 3
   },
   "file_extension": ".py",
   "mimetype": "text/x-python",
   "name": "python",
   "nbconvert_exporter": "python",
   "pygments_lexer": "ipython3",
   "version": "3.8.2"
  },
  "orig_nbformat": 4,
  "vscode": {
   "interpreter": {
    "hash": "082e9a3bcad0a290d0001e938aa60b99250c6c2ef33a923c00b70f9826caf4b7"
   }
  }
 },
 "nbformat": 4,
 "nbformat_minor": 2
}
