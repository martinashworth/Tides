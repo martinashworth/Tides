{
 "cells": [
  {
   "attachments": {},
   "cell_type": "markdown",
   "metadata": {},
   "source": [
    "- Requirements.txt should contain the following (other modules are included in the standard Python library):\n",
    "    - requests\n",
    "    - pandas\n",
    "    - pytz"
   ]
  },
  {
   "cell_type": "code",
   "execution_count": 14,
   "metadata": {},
   "outputs": [],
   "source": [
    "################################################################################\n",
    "# make these imports into a set of requirements (see above)\n",
    "################################################################################\n",
    "\n",
    "import requests\n",
    "import pandas as pd\n",
    "from datetime import date, timedelta, datetime\n",
    "import pytz\n",
    "import json"
   ]
  },
  {
   "cell_type": "code",
   "execution_count": 15,
   "metadata": {},
   "outputs": [],
   "source": [
    "################################################################################\n",
    "# set and create some variables\n",
    "################################################################################\n",
    "\n",
    "# Coordinates for [location]: \n",
    "latitude = '55.951009'\n",
    "longitude = '-3.100191'\n",
    "\n",
    "# Set the start date to current date:\n",
    "start_date = date.today()"
   ]
  },
  {
   "cell_type": "code",
   "execution_count": 16,
   "metadata": {},
   "outputs": [],
   "source": [
    "################################################################################\n",
    "# function to fetch sunrise and sunset data\n",
    "################################################################################\n",
    "\n",
    "def fetch_sunrise_sunset_data(date_str):\n",
    "    \"\"\"Fetch sunrise and sunset times from API.\"\"\"\n",
    "    url = f'https://api.sunrise-sunset.org/json?lat={latitude}&lng={longitude}&date={date_str}&formatted=0'\n",
    "    response = requests.get(url)\n",
    "\n",
    "    # Return JSON data if request is successful, else print error and return None\n",
    "    if response.status_code == 200:\n",
    "        return response.json()\n",
    "    else:\n",
    "        print(f\"Error fetching sunrise/sunset data: {response.status_code}\")\n",
    "        return None\n",
    "\n",
    "################################################################################\n",
    "# function to convert times to local\n",
    "################################################################################\n",
    "\n",
    "def convert_to_bst(time_str):\n",
    "    \"\"\"Convert GMT time string to BST.\"\"\"\n",
    "    gmt = pytz.timezone('GMT')\n",
    "    bst = pytz.timezone('Europe/London')\n",
    "    gmt_time = datetime.fromisoformat(time_str).replace(tzinfo=gmt)\n",
    "    bst_time = gmt_time.astimezone(bst)\n",
    "    return bst_time.strftime('%H:%M')\n",
    "\n",
    "################################################################################\n",
    "# use the functions to fetch times for one week\n",
    "################################################################################\n",
    "\n",
    "sun_data = []\n",
    "\n",
    "for i in range(7):\n",
    "    # Calculate the date for each day in the range\n",
    "    current_date = start_date + timedelta(days=i)\n",
    "    date_str = current_date.isoformat()\n",
    "\n",
    "    # Fetch sunrise and sunset data for the current date\n",
    "    sun_info = fetch_sunrise_sunset_data(date_str)\n",
    "\n",
    "    # If data is successfully fetched, convert times to BST and add to sun_data\n",
    "    if sun_info and 'results' in sun_info:\n",
    "        sun_data.append({\n",
    "            'date': date_str,\n",
    "            'sunrise': convert_to_bst(sun_info['results']['sunrise']),\n",
    "            'sunset': convert_to_bst(sun_info['results']['sunset'])\n",
    "        })\n",
    "    else:\n",
    "        print(f\"No sun data fetched for date: {date_str}\")\n"
   ]
  },
  {
   "cell_type": "code",
   "execution_count": 17,
   "metadata": {},
   "outputs": [],
   "source": [
    "################################################################################\n",
    "# put the data in a dataframe\n",
    "################################################################################\n",
    "\n",
    "df = pd.DataFrame(sun_data)\n"
   ]
  },
  {
   "cell_type": "code",
   "execution_count": 18,
   "metadata": {},
   "outputs": [],
   "source": [
    "################################################################################\n",
    "# use the date column as the index\n",
    "################################################################################\n",
    "\n",
    "df.set_index('date', inplace=True)"
   ]
  },
  {
   "cell_type": "code",
   "execution_count": 19,
   "metadata": {},
   "outputs": [],
   "source": [
    "# convert the index to datetime\n",
    "df.index = pd.to_datetime(df.index)\n",
    "\n",
    "# create a new column for the day of the week\n",
    "df['day_of_week'] = df.index.day_name()\n",
    "\n",
    "# Define the new order of the columns with 'day_of_week' at the beginning\n",
    "column_order = ['day_of_week', 'sunrise', 'sunset']\n",
    "\n",
    "# Reorder the DataFrame\n",
    "df = df[column_order]"
   ]
  },
  {
   "cell_type": "code",
   "execution_count": 29,
   "metadata": {},
   "outputs": [
    {
     "name": "stdout",
     "output_type": "stream",
     "text": [
      "    Day Tide Type Tide Time Tide Height\n",
      "0     1      High   06:07am       5.28m\n",
      "1     1       Low   12:24pm       0.88m\n",
      "2     1      High   06:56pm       5.18m\n",
      "3     2       Low   12:47am       1.51m\n",
      "4     2      High   07:01am       5.16m\n",
      "5     2       Low   01:25pm          1m\n",
      "6     2      High   07:53pm       5.02m\n",
      "7     3       Low   01:48am        1.7m\n",
      "8     3      High   07:59am       5.03m\n",
      "9     3       Low   02:30pm       1.11m\n",
      "10    3      High   08:58pm       4.88m\n",
      "11    4       Low   02:50am       1.82m\n",
      "12    4      High   09:05am       4.92m\n",
      "13    4       Low   03:31pm       1.19m\n",
      "14    4      High   10:02pm       4.79m\n",
      "15    5       Low   03:49am       1.85m\n",
      "16    5      High   10:14am       4.87m\n",
      "17    5       Low   04:39pm       1.21m\n",
      "18    5      High   11:07pm       4.77m\n",
      "19    6       Low   04:53am       1.79m\n",
      "20    6      High   11:21am        4.9m\n",
      "21    6       Low   05:46pm        1.2m\n",
      "22    7      High   12:08am       4.83m\n",
      "23    7       Low   05:57am       1.65m\n",
      "24    7      High   12:24pm       4.99m\n",
      "25    7       Low   06:48pm       1.17m\n"
     ]
    }
   ],
   "source": [
    "from bs4 import BeautifulSoup\n",
    "import requests\n",
    "import pandas as pd\n",
    "\n",
    "url = 'https://www.tidetime.org/europe/united-kingdom/portobello.htm'\n",
    "response = requests.get(url)\n",
    "soup = BeautifulSoup(response.text, 'html.parser')\n",
    "\n",
    "# Find the table in the soup.\n",
    "table = soup.find('table', {'id': 'tideTable'})\n",
    "\n",
    "# Find all the table rows in the table.\n",
    "rows = table.find_all('tr')\n",
    "\n",
    "# Initialize an empty list to hold the data.\n",
    "data = []\n",
    "\n",
    "# Initialize a counter for the day of the week.\n",
    "day = 0\n",
    "\n",
    "# Loop through each row.\n",
    "for row in rows:\n",
    "    # Find all the table data cells in the row.\n",
    "    cells = row.find_all('td')\n",
    "\n",
    "    # Loop through each cell.\n",
    "    for cell in cells:\n",
    "        # Increment the day counter.\n",
    "        day += 1\n",
    "\n",
    "        # Find all the high and low tides in the cell.\n",
    "        tides = cell.find_all('li', {'class': ['highTide', 'lowTide']})\n",
    "\n",
    "        # Loop through each tide.\n",
    "        for tide in tides:\n",
    "            # Get the tide type, time and height from the tide text.\n",
    "            tide_type = tide.find('span', {'class': 'tidal-state'}).text\n",
    "            tide_time = tide.find('strong').text.replace(tide_type, '').strip()\n",
    "            tide_height = tide.text.split(')')[0].split('(')[-1]\n",
    "\n",
    "            # Add the day, tide type, time and height to the data list.\n",
    "            data.append([day, tide_type, tide_time, tide_height])\n",
    "\n",
    "# Convert the data list into a DataFrame.\n",
    "df_tides = pd.DataFrame(data, columns=['Day', 'Tide Type', 'Tide Time', 'Tide Height'])\n",
    "\n",
    "print(df_tides)\n"
   ]
  },
  {
   "attachments": {},
   "cell_type": "markdown",
   "metadata": {},
   "source": [
    "- DONE - Add a Day Of The Week column\n",
    "\n",
    "- DONE - Fetch the Tides webpage using Python's requests library.\n",
    "\n",
    "- DONE - Parse the HTML: use Beautiful Soup to parse the HTML and find the table containing the tide data.\n",
    "\n",
    "- DONE - Extract and structure the data: go through cell by cell to extract the tide data and put it into a structured format. This might involve creating a Pandas DataFrame, or perhaps a more specialized data structure that's suited to your needs.\n",
    "\n",
    "- Convert to the desired format: If necessary, you may need to convert the times to a different format, or perform other transformations on the data to prepare it for your analysis.\n",
    "\n",
    "- py_Tides_old_remains contains the old bits of code for weather and visualisation.  They won't map directly but will hopefully offer some guidance on what remains to do."
   ]
  }
 ],
 "metadata": {
  "kernelspec": {
   "display_name": "Python 3",
   "language": "python",
   "name": "python3"
  },
  "language_info": {
   "codemirror_mode": {
    "name": "ipython",
    "version": 3
   },
   "file_extension": ".py",
   "mimetype": "text/x-python",
   "name": "python",
   "nbconvert_exporter": "python",
   "pygments_lexer": "ipython3",
   "version": "3.8.2"
  },
  "orig_nbformat": 4,
  "vscode": {
   "interpreter": {
    "hash": "082e9a3bcad0a290d0001e938aa60b99250c6c2ef33a923c00b70f9826caf4b7"
   }
  }
 },
 "nbformat": 4,
 "nbformat_minor": 2
}
